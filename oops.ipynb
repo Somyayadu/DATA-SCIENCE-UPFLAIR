{
 "cells": [
  {
   "cell_type": "code",
   "execution_count": null,
   "id": "48b667e9",
   "metadata": {},
   "outputs": [],
   "source": [
    "# oops concept\n",
    "# class , object , method\n",
    "# 4 types of oops \n",
    "# inheritance , polymorphism , encapsulation "
   ]
  },
  {
   "cell_type": "code",
   "execution_count": null,
   "id": "30c6f6e4",
   "metadata": {},
   "outputs": [],
   "source": [
    "# class -- blue print of object\n",
    "# object -- instance of calss "
   ]
  },
  {
   "cell_type": "code",
   "execution_count": null,
   "id": "948e8e3b",
   "metadata": {},
   "outputs": [
    {
     "name": "stdout",
     "output_type": "stream",
     "text": [
      "30\n",
      "('bmw', 'b400')\n"
     ]
    }
   ],
   "source": [
    "class car :\n",
    "    num1=10\n",
    "    num2=20\n",
    "    name=\"bmw\" \n",
    "    model=\"b400\"\n",
    "\n",
    "    def add(self):\n",
    "     return self.num1+self.num2\n",
    "\n",
    "    def display(self):\n",
    "     return self.name ,self.model \n",
    "\n",
    "obj =car()\n",
    "print(obj.add())\n",
    "print(obj.display())\n"
   ]
  },
  {
   "cell_type": "code",
   "execution_count": null,
   "id": "b621a0ff",
   "metadata": {},
   "outputs": [
    {
     "name": "stdout",
     "output_type": "stream",
     "text": [
      "('lion', 10)\n"
     ]
    }
   ],
   "source": [
    "# init -- constructor --inintialise the variable \n",
    "class animal:\n",
    "    def __init__ (self, name ,age):\n",
    "        self.name = name\n",
    "        self.age = age\n",
    "\n",
    "    def display(self):\n",
    "        return self.name ,self.age \n",
    "    \n",
    "obj=animal(\"lion\",10)\n",
    "print(obj.display())\n",
    "\n"
   ]
  },
  {
   "cell_type": "code",
   "execution_count": 21,
   "id": "6db483f8",
   "metadata": {},
   "outputs": [
    {
     "name": "stdout",
     "output_type": "stream",
     "text": [
      "('lion ', 22)\n"
     ]
    }
   ],
   "source": [
    "class animal:\n",
    "    def __init__ (self):\n",
    "        self.name = (input(\"enter the name\"))\n",
    "        self.age = int(input(\"enter the age\"))\n",
    "    def display(self):\n",
    "        return self.name ,self.age \n",
    "    \n",
    "obj=animal()\n",
    "print(obj.display())\n",
    "\n"
   ]
  },
  {
   "cell_type": "code",
   "execution_count": 2,
   "id": "3cdd8ed4",
   "metadata": {},
   "outputs": [
    {
     "name": "stdout",
     "output_type": "stream",
     "text": [
      "car\n",
      "bike\n"
     ]
    }
   ],
   "source": [
    "# inheritance\n",
    "# single inheritance\n",
    "\n",
    "class car():\n",
    "    def display(self):\n",
    "        return \"car\"\n",
    "class bike(car):\n",
    "    def show(self):\n",
    "        return\"bike\"\n",
    "\n",
    "obj=bike()\n",
    "print(obj.display())\n",
    "print(obj.show())"
   ]
  },
  {
   "cell_type": "code",
   "execution_count": 7,
   "id": "6da7ba43",
   "metadata": {},
   "outputs": [
    {
     "data": {
      "text/plain": [
       "'abc'"
      ]
     },
     "execution_count": 7,
     "metadata": {},
     "output_type": "execute_result"
    }
   ],
   "source": [
    "class person:\n",
    "    def __init__(self, name):\n",
    "        self.name=name\n",
    "\n",
    "    def show(self):\n",
    "        return self.name\n",
    "\n",
    "class employee(person):\n",
    "    def __init__(self,name,salary):\n",
    "        super().__init__(name)\n",
    "        self.salary =salary        \n",
    "\n",
    "obj=employee(\"abc\",100000)\n",
    "obj.show()"
   ]
  },
  {
   "cell_type": "code",
   "execution_count": 9,
   "id": "0ac120cb",
   "metadata": {},
   "outputs": [
    {
     "data": {
      "text/plain": [
       "('abc', 100000)"
      ]
     },
     "execution_count": 9,
     "metadata": {},
     "output_type": "execute_result"
    }
   ],
   "source": [
    "class person:\n",
    "    def __init__(self, name):\n",
    "        self.name=name\n",
    "\n",
    "    def show(self):\n",
    "        return self.name,self.salary\n",
    "        \n",
    "\n",
    "class employee(person):\n",
    "    def __init__(self,name,salary):\n",
    "        super().__init__(name)\n",
    "        self.salary =salary        \n",
    "\n",
    "obj=employee(\"abc\",100000)\n",
    "obj.show()"
   ]
  },
  {
   "cell_type": "code",
   "execution_count": 30,
   "id": "4a200346",
   "metadata": {},
   "outputs": [
    {
     "name": "stdout",
     "output_type": "stream",
     "text": [
      "('abc', 100000, 'data engineer')\n"
     ]
    }
   ],
   "source": [
    "class person:\n",
    "    def __init__(self, name):\n",
    "        self.name = name\n",
    "\n",
    "    def show(self):\n",
    "        return self.name, self.salary, self.job\n",
    "\n",
    "class employee(person):\n",
    "    def __init__(self, name, salary):\n",
    "        super().__init__(name)\n",
    "        self.salary = salary        \n",
    "\n",
    "class job:\n",
    "    def __init__(self, job):\n",
    "        self.job = job\n",
    "\n",
    "class employeepersonjob(employee, job):\n",
    "    def __init__(self, name, salary, job_role):\n",
    "        employee.__init__(self, name, salary)\n",
    "        job.__init__(self, job_role)\n",
    "\n",
    "obj = employeepersonjob(\"abc\", 100000, \"data engineer\")\n",
    "print(obj.show())\n"
   ]
  },
  {
   "cell_type": "code",
   "execution_count": null,
   "id": "d167a3fc",
   "metadata": {},
   "outputs": [
    {
     "name": "stdout",
     "output_type": "stream",
     "text": [
      "meow meow\n",
      "bark\n"
     ]
    }
   ],
   "source": [
    "# pollymorphism -- many forms --- the same function or method behave differently dased on the input \n",
    "\n",
    "class cat:\n",
    "    def sound(self):\n",
    "        return \"meow meow\"\n",
    "    \n",
    "class dog:\n",
    "    def sound(self):\n",
    "        return \"bark brak\"\n",
    "    \n",
    "def make_sound(animal):\n",
    "    return animal.sound()\n",
    "\n",
    "cat=cat()\n",
    "dog=dog()\n",
    "\n",
    "print(make_sound(cat))\n",
    "print(make_sound(dog))\n",
    "    \n",
    "  "
   ]
  },
  {
   "cell_type": "code",
   "execution_count": null,
   "id": "b6c09e00",
   "metadata": {},
   "outputs": [
    {
     "name": "stdout",
     "output_type": "stream",
     "text": [
      "Area: 20\n",
      "Area: 28.259999999999998\n",
      "Area: 24.0\n"
     ]
    }
   ],
   "source": [
    "class Shape:\n",
    "    def area(self):\n",
    "        pass  \n",
    "\n",
    "class Rectangle(Shape):\n",
    "    def __init__(self, length, width):\n",
    "        self.length = length\n",
    "        self.width = width\n",
    "    def area(self):\n",
    "        return self.length * self.width\n",
    "\n",
    "class Circle(Shape):\n",
    "    def __init__(self, radius):\n",
    "        self.radius = radius\n",
    "    def area(self):\n",
    "        return 3.14 * self.radius * self.radius\n",
    "\n",
    "class Triangle(Shape):\n",
    "    def __init__(self, base, height):\n",
    "        self.base = base\n",
    "        self.height = height\n",
    "    def area(self):\n",
    "        return 0.5 * self.base * self.height\n",
    "\n",
    "\n",
    "shapes = [\n",
    "    Rectangle(4, 5),\n",
    "    Circle(3),\n",
    "    Triangle(6, 8)\n",
    "]\n",
    "\n",
    "for shape in shapes:\n",
    "    print(\"Area:\", shape.area())"
   ]
  },
  {
   "cell_type": "code",
   "execution_count": 35,
   "id": "837ed08e",
   "metadata": {},
   "outputs": [
    {
     "data": {
      "text/plain": [
       "50"
      ]
     },
     "execution_count": 35,
     "metadata": {},
     "output_type": "execute_result"
    }
   ],
   "source": [
    "# encapsulation --\n",
    "# it mean hiding the internal details of a class and protecting data from being access or modify directly by the outside world \n",
    "# we can do it by using private and protected variable \n",
    "# private variable -- __name\n",
    "# cannot be accessible outside the class\n",
    " \n",
    " \n",
    "# protected variable -- _name \n",
    "# it can be accessible inside the class and its subclass\n",
    "\n",
    "\n",
    "class student:\n",
    "    def __init__(self, name, marks):\n",
    "        self.name =name \n",
    "        self.__marks =marks\n",
    "\n",
    "    def get_marsk(self):\n",
    "        return self.__marks\n",
    "    \n",
    "    def set_marks(self,marks):\n",
    "        if 0 <= marks <= 100:\n",
    "            self.__marks =marks\n",
    "        else:\n",
    "            print(\"invalid marks\")\n",
    "\n",
    "s = student(\"abc\",50)\n",
    "# name mangling \n",
    "s._student__marks\n"
   ]
  }
 ],
 "metadata": {
  "kernelspec": {
   "display_name": "Python 3",
   "language": "python",
   "name": "python3"
  },
  "language_info": {
   "codemirror_mode": {
    "name": "ipython",
    "version": 3
   },
   "file_extension": ".py",
   "mimetype": "text/x-python",
   "name": "python",
   "nbconvert_exporter": "python",
   "pygments_lexer": "ipython3",
   "version": "3.13.1"
  }
 },
 "nbformat": 4,
 "nbformat_minor": 5
}
