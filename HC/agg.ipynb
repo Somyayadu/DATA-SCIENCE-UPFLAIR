{
 "cells": [
  {
   "cell_type": "code",
   "execution_count": 1,
   "id": "5f522c79",
   "metadata": {},
   "outputs": [],
   "source": [
    "from sklearn.cluster import AgglomerativeClustering\n",
    "import matplotlib.pyplot as plt\n",
    "from scipy.cluster.hierarchy import dendrogram, linkage\n",
    "from sklearn.datasets import make_blobs"
   ]
  },
  {
   "cell_type": "code",
   "execution_count": 2,
   "id": "00a71d99",
   "metadata": {},
   "outputs": [],
   "source": [
    "x,_=make_blobs(n_samples=100, centers=3, cluster_std=1.0)\n"
   ]
  },
  {
   "cell_type": "code",
   "execution_count": 3,
   "id": "7b95560a",
   "metadata": {},
   "outputs": [],
   "source": [
    "model=AgglomerativeClustering(n_clusters=3,linkage='ward')\n",
    "labels=model.fit_predict(x)"
   ]
  },
  {
   "cell_type": "code",
   "execution_count": 4,
   "id": "636702f7",
   "metadata": {},
   "outputs": [
    {
     "data": {
      "image/png": "[encoded data removed]",
      "text/plain": [
       "<Figure size 1000x600 with 1 Axes>"
      ]
     },
     "metadata": {},
     "output_type": "display_data"
    }
   ],
   "source": [
    "##  dendrogram\n",
    "linked = linkage(x,method= 'ward')\n",
    "plt.figure(figsize=(10, 6))\n",
    "dendrogram(linked)\n",
    "plt.xticks(rotation=90)\n",
    "plt.show()"
   ]
  },
  {
   "cell_type": "code",
   "execution_count": 5,
   "id": "7e0d0402",
   "metadata": {},
   "outputs": [
    {
     "data": {
      "text/plain": [
       "array([[ 8.90711343,  0.92411796],\n",
       "       [-6.81396894, -7.51592203],\n",
       "       [-0.44069921, -0.85060154],\n",
       "       [-6.65218508, -8.52961491],\n",
       "       [ 1.19247286,  1.73922827],\n",
       "       [ 7.59898815,  0.50655277],\n",
       "       [-1.95183755, -1.06488123],\n",
       "       [-1.51452282,  1.83190649],\n",
       "       [ 7.33323161, -1.27440387],\n",
       "       [ 9.23247981, -0.78565399],\n",
       "       [ 8.04763073,  0.24989625],\n",
       "       [ 8.03913837, -0.674399  ],\n",
       "       [-3.38198407,  2.05482017],\n",
       "       [-5.86319445, -8.35629378],\n",
       "       [ 7.62365204,  0.89280258],\n",
       "       [ 7.92367411,  0.35783495],\n",
       "       [ 7.35521918,  0.52339121],\n",
       "       [ 6.90884863, -1.02098478],\n",
       "       [-7.15887961, -8.11173867],\n",
       "       [ 8.38702533,  0.13283946],\n",
       "       [ 8.70411495,  1.88390632],\n",
       "       [-1.38867301,  0.1473247 ],\n",
       "       [-6.34723715, -8.20341658],\n",
       "       [-6.02445365, -7.16151993],\n",
       "       [-1.66469245,  0.58439636],\n",
       "       [ 0.68910717,  1.22414573],\n",
       "       [-0.11792715,  0.32518056],\n",
       "       [-2.74786831,  0.34737602],\n",
       "       [ 7.6919089 , -0.13982884],\n",
       "       [ 7.96651872,  0.80197028],\n",
       "       [ 7.19341245, -0.56547937],\n",
       "       [-1.60012619,  1.32123194],\n",
       "       [-1.46788687, -0.16920879],\n",
       "       [-2.45902113, -0.82196718],\n",
       "       [ 6.27092667,  0.17942528],\n",
       "       [-1.0413942 , -1.44218724],\n",
       "       [-0.43641035, -1.47443626],\n",
       "       [-4.70016662, -8.59434672],\n",
       "       [-0.15049805,  1.52572732],\n",
       "       [-6.42002729, -9.63514142],\n",
       "       [-3.32083369, -0.17472549],\n",
       "       [ 7.54108914,  0.61581082],\n",
       "       [-6.15517566, -8.55541297],\n",
       "       [-7.99232295, -9.28163312],\n",
       "       [-2.27154896,  0.83793672],\n",
       "       [ 8.01752582, -0.10284236],\n",
       "       [-1.02343528,  0.89747909],\n",
       "       [-5.63553854, -9.16816664],\n",
       "       [ 8.19115829, -0.28330668],\n",
       "       [-1.99024701, -0.3921902 ],\n",
       "       [-1.88206612,  2.16713579],\n",
       "       [-6.58186379, -7.29753081],\n",
       "       [-1.39952218, -1.08305309],\n",
       "       [-6.18019854, -7.41783102],\n",
       "       [-1.93829682,  1.36815644],\n",
       "       [-6.5867271 , -7.84535186],\n",
       "       [ 7.83797901, -0.815164  ],\n",
       "       [-5.83922713, -8.73432939],\n",
       "       [-0.89379926,  0.93353695],\n",
       "       [-6.75506851, -9.26215252],\n",
       "       [-7.70937972, -7.82961735],\n",
       "       [ 9.1888711 ,  0.80991665],\n",
       "       [ 6.84930287, -0.15937517],\n",
       "       [ 7.63826472, -0.05311806],\n",
       "       [ 8.42892817,  0.55637385],\n",
       "       [-5.46297321, -8.89093269],\n",
       "       [ 6.86284632, -0.0647776 ],\n",
       "       [-1.18494215,  0.21700689],\n",
       "       [ 7.94601571, -0.09751345],\n",
       "       [-5.46227178, -7.31952915],\n",
       "       [-6.27842927, -9.473944  ],\n",
       "       [-5.57676289, -8.5034143 ],\n",
       "       [-5.1555888 , -9.891026  ],\n",
       "       [-5.20060183, -9.36342408],\n",
       "       [-1.78565692,  0.33607251],\n",
       "       [-3.76622897, -0.59152152],\n",
       "       [-5.81745847, -9.17094641],\n",
       "       [-0.74473814, -0.59166729],\n",
       "       [-0.18427235,  0.63193005],\n",
       "       [-3.22840044,  1.27611654],\n",
       "       [-5.09604729, -9.44536745],\n",
       "       [-5.99209382, -8.43595406],\n",
       "       [ 7.71731247,  0.1835407 ],\n",
       "       [ 0.20444255, -1.17780316],\n",
       "       [ 8.12254442,  0.76110254],\n",
       "       [-5.46358132, -9.24024604],\n",
       "       [ 8.45975212,  0.19764271],\n",
       "       [-0.1127982 ,  1.77602111],\n",
       "       [ 7.51427607, -1.57336803],\n",
       "       [-6.90540657, -8.97153767],\n",
       "       [ 7.54760431,  0.41579814],\n",
       "       [-5.57816039, -9.06600943],\n",
       "       [ 8.2311687 ,  0.37073271],\n",
       "       [-8.17641364, -9.42252586],\n",
       "       [-8.01358518, -9.20341897],\n",
       "       [-5.67706339, -9.01571215],\n",
       "       [-1.84754086,  1.37919624],\n",
       "       [-1.24972448, -1.15508453],\n",
       "       [-4.93290241, -8.94122433],\n",
       "       [ 8.08994122, -0.95594946]])"
      ]
     },
     "execution_count": 5,
     "metadata": {},
     "output_type": "execute_result"
    }
   ],
   "source": [
    "x"
   ]
  }
 ],
 "metadata": {
  "kernelspec": {
   "display_name": "Python 3",
   "language": "python",
   "name": "python3"
  },
  "language_info": {
   "codemirror_mode": {
    "name": "ipython",
    "version": 3
   },
   "file_extension": ".py",
   "mimetype": "text/x-python",
   "name": "python",
   "nbconvert_exporter": "python",
   "pygments_lexer": "ipython3",
   "version": "3.11.9"
  }
 },
 "nbformat": 4,
 "nbformat_minor": 5
}
