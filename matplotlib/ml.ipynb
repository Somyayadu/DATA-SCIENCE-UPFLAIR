{
 "cells": [
  {
   "cell_type": "code",
   "execution_count": null,
   "id": "0063a180",
   "metadata": {},
   "outputs": [],
   "source": [
    "#machine learning life cycle\n",
    "# 1.gathering data-----> 2.data preparation---> 3.data wragling-----> 4.analyse data---->5.train model\n",
    "# ------>6.test model -----> 7.deployment\n",
    "\n",
    "### problem definition----> data dollection---- data cleaning-----eda\n",
    "\n",
    "## y= mx + c\n",
    "#y = Dependent vairable\n",
    "#m =slope\n",
    "#x= independent variable\n",
    "#c=intersept \n",
    " \n",
    "#y = m1x1 + m2x2 + m3x3 +...........+MnXn + C \n",
    "# the main goal of linear regresion is to find best optimal values of C and M\n",
    "#best fit line(bfl)----least error----> actual point and predictate point diff is very low\n",
    "\n",
    "##loss function ---error--- single \n",
    "## cost function -----error ---- whole ----avg error of whole \n",
    "\n",
    "# Model Evaluation (Reg)\n",
    "# R² , RMSE  \n",
    "## R2 ------> Variation          \n",
    "#  Range ---  0 to 1\n",
    "#  R²  ---->  jitna 1 ke pass R(sq) ki value utna acha hai\n",
    "#  R² = 1-(RSS/Tss) => 1 -(RSS=MSE)/submision(yi-y^)² RSS =residual sum of sq ,,  TSS = toal sum of sq\n",
    "# RSS = MSE\n",
    "\n",
    "## RMSE =sq.root(MSE)= how close the observed value to the predicted value\n",
    "## MAE -- mean absolute error\n",
    "## MSE --> it do not deals with outliers(exceptions)\n",
    "## MAE ---> deals with outliers\n",
    "## Adjusted R² ----it increases the accuracy\n",
    "## adjusted R(sq.)= 1 - (1-r²)(N-1)/ N-P-1       n=total points , p= no of independent features\n",
    "## Huber Loss -- combination of mse and mae \n",
    "\n",
    "##revsion \n",
    "# linear regration \n",
    "# relation b/w x & y\n",
    "# best fit stright line -- kosis karti hai jada s jada line cover kar paye ya lie kare \n",
    "# graph -- 1. positive 2. negative \n",
    "# simple linear equation -- ek x point hoga ek hog ay point --> y=m1x1+....mnxn+ error\n",
    "# best fit line hogi konsi -- jo slpoe (m) or intersept(c)\n",
    "# cost function -- loss calculation kart hai "
   ]
  }
 ],
 "metadata": {
  "kernelspec": {
   "display_name": "Python 3",
   "language": "python",
   "name": "python3"
  },
  "language_info": {
   "codemirror_mode": {
    "name": "ipython",
    "version": 3
   },
   "file_extension": ".py",
   "mimetype": "text/x-python",
   "name": "python",
   "nbconvert_exporter": "python",
   "pygments_lexer": "ipython3",
   "version": "3.11.9"
  }
 },
 "nbformat": 4,
 "nbformat_minor": 5
}
