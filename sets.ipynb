{
 "cells": [
  {
   "cell_type": "code",
   "execution_count": null,
   "id": "abc244b7",
   "metadata": {},
   "outputs": [
    {
     "name": "stdout",
     "output_type": "stream",
     "text": [
      "None\n",
      "None\n",
      "None\n",
      "None\n"
     ]
    }
   ],
   "source": [
    "a={1,2,3}\n",
    "b={3,4,5,6}\n",
    "#print(a.union(b))\n",
    "#print(a.intersection(b))\n",
    "\n",
    "#print(a.difference(b))\n",
    "#print(b.difference(a))\n",
    "\n",
    "# symetric difference\n",
    "#return the element in either set but not both\n",
    "#print(a.symmetric_difference(b))\n",
    "#print(b.symmetric_difference(a))\n",
    "\n",
    "#sub set : check if all the element of one set are in another set \n",
    "#print(a.issubset(b))\n",
    "#print(b.issubset(a))\n",
    "\n",
    "#super set :check if one contains all the element of another\n",
    "#print(a.issuperset(b))\n",
    "#print(b.issuperset(a))\n",
    "\n",
    "#disjoint :check if two sub set have no common elements\n",
    "#print(a.isdisjoint(b))\n",
    "\n",
    "#insertion : return common element\n",
    "#print(a.intersection(b))\n",
    "#print(b.intersection(a))\n",
    "\n",
    "#intersection update : \n",
    "#print(a.intersection(b))\n",
    "#print(b.intersection_update(a))\n",
    "\n",
    "# print(a.difference_update(b))\n",
    "# print(b.difference_update(a))\n",
    "\n",
    "# print(a.symmetric_difference_update(b))\n",
    "# print(b.symmetric_difference_update(a))\n",
    "\n"
   ]
  },
  {
   "cell_type": "code",
   "execution_count": null,
   "id": "21c2cb1f",
   "metadata": {},
   "outputs": [
    {
     "name": "stdout",
     "output_type": "stream",
     "text": [
      "{1, 2, 'hii', 'cool'}\n"
     ]
    }
   ],
   "source": [
    "st={1,2,\"hello\",\"hii\",\"cool\"}\n",
    "#st.clear()\n",
    "#st.pop()\n",
    "#st.add(\"python\")\n",
    "#st.update([1,2,3,4,5])\n",
    "#st.remove(2)\n",
    "#st.discard(\"hello\")\n",
    "print(st)"
   ]
  },
  {
   "cell_type": "code",
   "execution_count": 1,
   "id": "7c2c54b7",
   "metadata": {},
   "outputs": [
    {
     "name": "stdout",
     "output_type": "stream",
     "text": [
      "{1, 2, 'hello'}\n",
      "<class 'set'>\n"
     ]
    }
   ],
   "source": [
    "#sets   {}\n",
    "#unorderd ,unindexed ,no duplicates \n",
    "\n",
    "st ={1,2,\"hello\",True,\"hello\"}\n",
    "print(st)\n",
    "print(type(st))"
   ]
  }
 ],
 "metadata": {
  "kernelspec": {
   "display_name": "Python 3",
   "language": "python",
   "name": "python3"
  },
  "language_info": {
   "codemirror_mode": {
    "name": "ipython",
    "version": 3
   },
   "file_extension": ".py",
   "mimetype": "text/x-python",
   "name": "python",
   "nbconvert_exporter": "python",
   "pygments_lexer": "ipython3",
   "version": "3.13.1"
  }
 },
 "nbformat": 4,
 "nbformat_minor": 5
}
