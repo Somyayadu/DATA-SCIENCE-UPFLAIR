{
 "cells": [
  {
   "cell_type": "code",
   "execution_count": null,
   "id": "877540c8",
   "metadata": {},
   "outputs": [
    {
     "data": {
      "text/plain": [
       "['black', 'blue', 'green', 'red']"
      ]
     },
     "execution_count": 50,
     "metadata": {},
     "output_type": "execute_result"
    }
   ],
   "source": [
    "lst=[\"red\",\"green\",\"blue\",\"black\"]\n",
    "#lst.remove(\"red\")\n",
    "#lst.pop()\n",
    "#lst.pop(0)\n",
    "#lst.reverse()\n",
    "#lst.sort(reverse=True)\n",
    "#lst.sort()\n",
    "lst"
   ]
  },
  {
   "cell_type": "code",
   "execution_count": 41,
   "id": "37d0cf90",
   "metadata": {},
   "outputs": [
    {
     "data": {
      "text/plain": [
       "['red', 'green', 'blue', 'black', 'white', 'orange', 'sky blue']"
      ]
     },
     "execution_count": 41,
     "metadata": {},
     "output_type": "execute_result"
    }
   ],
   "source": [
    "lst=[\"red\",\"green\",\"blue\",\"black\"]\n",
    "lst.extend([\"white\",\"orange\",\"sky blue\"])\n",
    "lst"
   ]
  },
  {
   "cell_type": "code",
   "execution_count": 39,
   "id": "216aa299",
   "metadata": {},
   "outputs": [
    {
     "data": {
      "text/plain": [
       "['red', 'green', 'blue', 'black', 'white']"
      ]
     },
     "execution_count": 39,
     "metadata": {},
     "output_type": "execute_result"
    }
   ],
   "source": [
    "lst=[\"red\",\"green\",\"blue\",\"black\"]\n",
    "lst.append(\"white\")\n",
    "lst"
   ]
  },
  {
   "cell_type": "code",
   "execution_count": 38,
   "id": "809a84c4",
   "metadata": {},
   "outputs": [
    {
     "data": {
      "text/plain": [
       "['red', 'green', 'white', 'blue', 'black']"
      ]
     },
     "execution_count": 38,
     "metadata": {},
     "output_type": "execute_result"
    }
   ],
   "source": [
    "lst=[\"red\",\"green\",\"blue\",\"black\"]\n",
    "lst.insert(2,\"white\")\n",
    "lst"
   ]
  },
  {
   "cell_type": "code",
   "execution_count": 36,
   "id": "c5b1fabd",
   "metadata": {},
   "outputs": [],
   "source": [
    "lst=[\"red\",\"green\",\"blue\",\"black\"]\n",
    "del lst\n"
   ]
  },
  {
   "cell_type": "code",
   "execution_count": 33,
   "id": "2e02a8e7",
   "metadata": {},
   "outputs": [
    {
     "data": {
      "text/plain": [
       "[]"
      ]
     },
     "execution_count": 33,
     "metadata": {},
     "output_type": "execute_result"
    }
   ],
   "source": [
    "lst=[\"red\",\"green\",\"blue\",\"black\"]\n",
    "lst.clear()\n",
    "lst"
   ]
  },
  {
   "cell_type": "code",
   "execution_count": 31,
   "id": "ee8f0069",
   "metadata": {},
   "outputs": [
    {
     "data": {
      "text/plain": [
       "['red', 'green', 'blue', 'black']"
      ]
     },
     "execution_count": 31,
     "metadata": {},
     "output_type": "execute_result"
    }
   ],
   "source": [
    "lst=[\"red\",\"green\",\"blue\",\"black\"]\n",
    "lst2=lst.copy()\n",
    "lst2"
   ]
  },
  {
   "cell_type": "code",
   "execution_count": 26,
   "id": "8592a8eb",
   "metadata": {},
   "outputs": [
    {
     "data": {
      "text/plain": [
       "0"
      ]
     },
     "execution_count": 26,
     "metadata": {},
     "output_type": "execute_result"
    }
   ],
   "source": [
    "lst=[\"red\",\"green\",\"blue\",\"black\"]\n",
    "lst.index(\"red\")"
   ]
  },
  {
   "cell_type": "code",
   "execution_count": 25,
   "id": "02734bd3",
   "metadata": {},
   "outputs": [
    {
     "data": {
      "text/plain": [
       "2"
      ]
     },
     "execution_count": 25,
     "metadata": {},
     "output_type": "execute_result"
    }
   ],
   "source": [
    "lst=[\"red\",\"green\",\"blue\",\"black\",\"red\"]\n",
    "lst.count(\"red\")"
   ]
  },
  {
   "cell_type": "code",
   "execution_count": 24,
   "id": "a37da0a7",
   "metadata": {},
   "outputs": [
    {
     "name": "stdout",
     "output_type": "stream",
     "text": [
      "[10, 20, [30, 40, [50, [6000]], 70], 80]\n"
     ]
    }
   ],
   "source": [
    "lst=[10,20,[30,40,[50,60],70],80]\n",
    "lst[2][2][1]=[6000]\n",
    "print(lst)"
   ]
  },
  {
   "cell_type": "code",
   "execution_count": 17,
   "id": "888d00dc",
   "metadata": {},
   "outputs": [
    {
     "name": "stdout",
     "output_type": "stream",
     "text": [
      "['red', [2000, 3000], 'blue', 'black']\n"
     ]
    }
   ],
   "source": [
    "lst=[\"red\",\"green\",\"blue\",\"black\"]\n",
    "lst[1] =[2000,3000]\n",
    "print(lst)"
   ]
  },
  {
   "cell_type": "code",
   "execution_count": 15,
   "id": "c9bbfa49",
   "metadata": {},
   "outputs": [
    {
     "name": "stdout",
     "output_type": "stream",
     "text": [
      "['red', 2000, 30, 'black']\n"
     ]
    }
   ],
   "source": [
    "lst=[\"red\",\"green\",\"blue\",\"black\"]\n",
    "lst[1:3] =[2000,30]\n",
    "print(lst)"
   ]
  },
  {
   "cell_type": "code",
   "execution_count": 8,
   "id": "630c8fc4",
   "metadata": {},
   "outputs": [
    {
     "name": "stdout",
     "output_type": "stream",
     "text": [
      "['red', 2000, 'blue', 'black']\n"
     ]
    }
   ],
   "source": [
    "lst=[\"red\",\"green\",\"blue\",\"black\"]\n",
    "lst[1] =2000\n",
    "print(lst)"
   ]
  },
  {
   "cell_type": "code",
   "execution_count": 4,
   "id": "be971cf9",
   "metadata": {},
   "outputs": [
    {
     "name": "stdout",
     "output_type": "stream",
     "text": [
      "[1, 2, 3, 4]\n"
     ]
    }
   ],
   "source": [
    "lst=[1,2,3,4]\n",
    "print(lst[0:4])\n"
   ]
  },
  {
   "cell_type": "code",
   "execution_count": 7,
   "id": "5fad7e59",
   "metadata": {},
   "outputs": [
    {
     "data": {
      "text/plain": [
       "[]"
      ]
     },
     "execution_count": 7,
     "metadata": {},
     "output_type": "execute_result"
    }
   ],
   "source": [
    "lst=[\"red\",\"green\",\"blue\",\"black\"]\n",
    "lst[-1:0]"
   ]
  },
  {
   "cell_type": "code",
   "execution_count": 2,
   "id": "8e833c77",
   "metadata": {},
   "outputs": [
    {
     "name": "stdout",
     "output_type": "stream",
     "text": [
      "[1, 2, 'hello,true,33,23,hello']\n",
      "<class 'list'>\n"
     ]
    }
   ],
   "source": [
    "list =[1,2,\"hello,true,33,23,hello\"]\n",
    "print(list)\n",
    "print(type(list))"
   ]
  },
  {
   "cell_type": "code",
   "execution_count": 1,
   "id": "157ed444",
   "metadata": {},
   "outputs": [
    {
     "name": "stdout",
     "output_type": "stream",
     "text": [
      "hello world\n"
     ]
    }
   ],
   "source": [
    "print(\"hello world\")"
   ]
  },
  {
   "cell_type": "markdown",
   "id": "07527f1a",
   "metadata": {},
   "source": [
    "# list"
   ]
  }
 ],
 "metadata": {
  "kernelspec": {
   "display_name": "Python 3",
   "language": "python",
   "name": "python3"
  },
  "language_info": {
   "codemirror_mode": {
    "name": "ipython",
    "version": 3
   },
   "file_extension": ".py",
   "mimetype": "text/x-python",
   "name": "python",
   "nbconvert_exporter": "python",
   "pygments_lexer": "ipython3",
   "version": "3.13.1"
  }
 },
 "nbformat": 4,
 "nbformat_minor": 5
}
