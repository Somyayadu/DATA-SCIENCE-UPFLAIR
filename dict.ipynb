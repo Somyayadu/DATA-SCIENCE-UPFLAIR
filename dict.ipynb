{
 "cells": [
  {
   "cell_type": "code",
   "execution_count": null,
   "id": "e6a7b74f",
   "metadata": {},
   "outputs": [
    {
     "name": "stdout",
     "output_type": "stream",
     "text": [
      "{'name': 'somya', 'age': '30', 'hobby': 'football'}\n"
     ]
    }
   ],
   "source": [
    "dt={\n",
    "    \"name\":\"somya\",\n",
    "    \"age\":\"20\",\n",
    "    \"hobby\":\"football\",\n",
    "}\n",
    "#dt.keys()\n",
    "#dt.pop(\"hobby\")\n",
    "#dt.items()\n",
    "# print(dt)\n",
    "# dt(type(dt))\n",
    "#dt.update({\"age\":\"30\"})\n",
    "print(dt)\n"
   ]
  },
  {
   "cell_type": "code",
   "execution_count": 13,
   "id": "70ec1b4d",
   "metadata": {},
   "outputs": [
    {
     "name": "stdout",
     "output_type": "stream",
     "text": [
      "{'k': 10, 'e': 10, 'y': 10}\n"
     ]
    }
   ],
   "source": [
    "dt={}.fromkeys(\"key\",10)\n",
    "print(dt)"
   ]
  },
  {
   "cell_type": "code",
   "execution_count": 10,
   "id": "e28d9da1",
   "metadata": {},
   "outputs": [
    {
     "name": "stdout",
     "output_type": "stream",
     "text": [
      "{'a': 1, 'b': 3}\n"
     ]
    }
   ],
   "source": [
    "dt={\"a\":1,\"b\":3}\n",
    "value=dt.setdefault(\"b\",2)\n",
    "print(dt)"
   ]
  }
 ],
 "metadata": {
  "kernelspec": {
   "display_name": "Python 3",
   "language": "python",
   "name": "python3"
  },
  "language_info": {
   "codemirror_mode": {
    "name": "ipython",
    "version": 3
   },
   "file_extension": ".py",
   "mimetype": "text/x-python",
   "name": "python",
   "nbconvert_exporter": "python",
   "pygments_lexer": "ipython3",
   "version": "3.13.1"
  }
 },
 "nbformat": 4,
 "nbformat_minor": 5
}
