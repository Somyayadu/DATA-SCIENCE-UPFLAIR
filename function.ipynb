{
 "cells": [
  {
   "cell_type": "code",
   "execution_count": null,
   "id": "a22aef80",
   "metadata": {},
   "outputs": [],
   "source": []
  },
  {
   "cell_type": "code",
   "execution_count": 1,
   "id": "ec37564f",
   "metadata": {},
   "outputs": [
    {
     "name": "stdout",
     "output_type": "stream",
     "text": [
      "5.0\n"
     ]
    }
   ],
   "source": [
    "## avg function\n",
    "def avg(a,b):\n",
    " print((a+b)/2)\n",
    "avg(6,4)    "
   ]
  },
  {
   "cell_type": "code",
   "execution_count": 2,
   "id": "35cb37e0",
   "metadata": {},
   "outputs": [
    {
     "name": "stdout",
     "output_type": "stream",
     "text": [
      "mohan\n",
      "sohan\n",
      "rohan\n"
     ]
    }
   ],
   "source": [
    "#passing lst in a argument \n",
    "def lst(name):\n",
    "    for i in name:\n",
    "        print(i)\n",
    "\n",
    "lst([\"mohan\",\"sohan\",\"rohan\"])        "
   ]
  },
  {
   "cell_type": "code",
   "execution_count": 3,
   "id": "719632b4",
   "metadata": {},
   "outputs": [
    {
     "name": "stdout",
     "output_type": "stream",
     "text": [
      "my hobby is circket\n",
      "my hobby is coding\n"
     ]
    }
   ],
   "source": [
    "def hobby(name=\"coding\"):\n",
    "    print(\"my hobby is \"+ name)\n",
    "hobby(\"circket\")\n",
    "hobby()"
   ]
  },
  {
   "cell_type": "code",
   "execution_count": 4,
   "id": "77cff316",
   "metadata": {},
   "outputs": [
    {
     "name": "stdout",
     "output_type": "stream",
     "text": [
      "the youngest child is mohan\n"
     ]
    }
   ],
   "source": [
    "def child (**kids):\n",
    "    print(\"the youngest child is \"+ kids[\"child3\"])\n",
    "\n",
    "child(child3=\"mohan\",child2=\"sohan\",child1=\"rohan\")"
   ]
  },
  {
   "cell_type": "code",
   "execution_count": 5,
   "id": "9d7feec4",
   "metadata": {},
   "outputs": [
    {
     "name": "stdout",
     "output_type": "stream",
     "text": [
      "the youngest child is mohan\n"
     ]
    }
   ],
   "source": [
    "def child (child1, child2,child3):\n",
    "    print(\"the youngest child is \"+child3)\n",
    "\n",
    "child(child3=\"mohan\",child2=\"sohan\",child1=\"rohan\")"
   ]
  },
  {
   "cell_type": "code",
   "execution_count": 6,
   "id": "fbd09dc9",
   "metadata": {},
   "outputs": [
    {
     "name": "stdout",
     "output_type": "stream",
     "text": [
      " the youngest child is rohan\n"
     ]
    }
   ],
   "source": [
    "# arbitary argument ---args---*---\n",
    "def child(*kids):\n",
    "    print(\" the youngest child is \"+ kids[1])\n",
    "\n",
    "child(\"mohan\",\"rohan\",\"sohan\")\n"
   ]
  },
  {
   "cell_type": "code",
   "execution_count": 7,
   "id": "4fdfe575",
   "metadata": {},
   "outputs": [
    {
     "name": "stdout",
     "output_type": "stream",
     "text": [
      "2468\n"
     ]
    }
   ],
   "source": [
    "# parameter : is passed whwn we make a function \n",
    "# argument  : is passed when we call a function \n",
    "\n",
    "def add(a,b):\n",
    "    print(a+b)\n",
    "\n",
    "add(1234,1234) \n",
    "    \n"
   ]
  },
  {
   "cell_type": "code",
   "execution_count": 8,
   "id": "39e5b528",
   "metadata": {},
   "outputs": [
    {
     "name": "stdout",
     "output_type": "stream",
     "text": [
      "30\n"
     ]
    }
   ],
   "source": [
    "def add():\n",
    "    a=10\n",
    "    b=20\n",
    "    c=a+b\n",
    "    print(c)\n",
    "\n",
    "add()"
   ]
  },
  {
   "cell_type": "code",
   "execution_count": 9,
   "id": "517e74de",
   "metadata": {},
   "outputs": [
    {
     "name": "stdout",
     "output_type": "stream",
     "text": [
      "hello from the function\n"
     ]
    }
   ],
   "source": [
    "def hello():\n",
    "    print(\"hello from the function\")\n",
    "\n",
    "hello()"
   ]
  },
  {
   "cell_type": "code",
   "execution_count": 10,
   "id": "7a041208",
   "metadata": {},
   "outputs": [],
   "source": [
    "# function ----> Is a block of code that is used to do repeated task and it will execute only when it is called\n",
    "# type of function ---\n",
    "# . user define function \n",
    "# . built defined function "
   ]
  }
 ],
 "metadata": {
  "kernelspec": {
   "display_name": "Python 3",
   "language": "python",
   "name": "python3"
  },
  "language_info": {
   "codemirror_mode": {
    "name": "ipython",
    "version": 3
   },
   "file_extension": ".py",
   "mimetype": "text/x-python",
   "name": "python",
   "nbconvert_exporter": "python",
   "pygments_lexer": "ipython3",
   "version": "3.11.9"
  }
 },
 "nbformat": 4,
 "nbformat_minor": 5
}
