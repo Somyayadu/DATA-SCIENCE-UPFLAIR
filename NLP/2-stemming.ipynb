{
 "cells": [
  {
   "cell_type": "code",
   "execution_count": 2,
   "id": "81b43e45",
   "metadata": {},
   "outputs": [],
   "source": [
    "##stemming -- work od this is to reduce the work to its root word\n",
    "##plays playing played --- play\n",
    "## runs , running, run --run"
   ]
  },
  {
   "cell_type": "code",
   "execution_count": 3,
   "id": "afafb7b3",
   "metadata": {},
   "outputs": [],
   "source": [
    "words = [\"plays\", \"playing\" , \"played\",\"run\",\"runs\" , \"running\",\"happened\" , \"happening\" , \"happen\",\"History\"]"
   ]
  },
  {
   "cell_type": "code",
   "execution_count": 4,
   "id": "b550b23c",
   "metadata": {},
   "outputs": [
    {
     "name": "stdout",
     "output_type": "stream",
     "text": [
      "plays --> play\n",
      "playing --> play\n",
      "played --> play\n",
      "run --> run\n",
      "runs --> run\n",
      "running --> run\n",
      "happened --> happen\n",
      "happening --> happen\n",
      "happen --> happen\n",
      "History --> histori\n"
     ]
    }
   ],
   "source": [
    "## porter stemmer:--\n",
    "## the output word may not be always be a valid english word\n",
    "from nltk.stem import PorterStemmer\n",
    "ps=PorterStemmer()\n",
    "\n",
    "for word in words:\n",
    "    print(word,'-->',ps.stem(word))"
   ]
  },
  {
   "cell_type": "code",
   "execution_count": 5,
   "id": "827a754c",
   "metadata": {},
   "outputs": [
    {
     "name": "stdout",
     "output_type": "stream",
     "text": [
      "plays ------> play\n",
      "playing ------> play\n",
      "played ------> played\n",
      "run ------> run\n",
      "runs ------> run\n",
      "running ------> runn\n",
      "happened ------> happened\n",
      "happening ------> happen\n",
      "happen ------> happen\n",
      "History ------> History\n"
     ]
    }
   ],
   "source": [
    "# regex or regular expression\n",
    "from nltk.stem import RegexpStemmer\n",
    "rs=RegexpStemmer(\"ing$|s$|es$|able$|ible$\")\n",
    "for word in words:\n",
    "    print(word,\"------>\",rs.stem(word))"
   ]
  },
  {
   "cell_type": "code",
   "execution_count": 6,
   "id": "42949ab2",
   "metadata": {},
   "outputs": [
    {
     "name": "stdout",
     "output_type": "stream",
     "text": [
      "plays -----> play\n",
      "playing -----> play\n",
      "played -----> play\n",
      "run -----> run\n",
      "runs -----> run\n",
      "running -----> run\n",
      "happened -----> happen\n",
      "happening -----> happen\n",
      "happen -----> happen\n",
      "History -----> histori\n"
     ]
    }
   ],
   "source": [
    "## snow ball stemmer\n",
    "from nltk.stem.snowball import SnowballStemmer\n",
    "ss=SnowballStemmer(\"english\")\n",
    "for word in words:\n",
    "    print(word,\"----->\",ss.stem(word))"
   ]
  }
 ],
 "metadata": {
  "kernelspec": {
   "display_name": "Python 3",
   "language": "python",
   "name": "python3"
  },
  "language_info": {
   "codemirror_mode": {
    "name": "ipython",
    "version": 3
   },
   "file_extension": ".py",
   "mimetype": "text/x-python",
   "name": "python",
   "nbconvert_exporter": "python",
   "pygments_lexer": "ipython3",
   "version": "3.11.9"
  }
 },
 "nbformat": 4,
 "nbformat_minor": 5
}
