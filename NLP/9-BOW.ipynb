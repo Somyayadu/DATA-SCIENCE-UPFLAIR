{
 "cells": [
  {
   "cell_type": "code",
   "execution_count": 1,
   "id": "02f45785",
   "metadata": {},
   "outputs": [],
   "source": [
    "from sklearn.feature_extraction.text import CountVectorizer"
   ]
  },
  {
   "cell_type": "code",
   "execution_count": 2,
   "id": "fb3589dc",
   "metadata": {},
   "outputs": [],
   "source": [
    "docs = [\"The sun is shining\", \"The weather is sweet\", \n",
    "        \"The sun is shining, the weather is sweet, and one and one is two\"]"
   ]
  },
  {
   "cell_type": "code",
   "execution_count": 5,
   "id": "ecbabe04",
   "metadata": {},
   "outputs": [
    {
     "name": "stdout",
     "output_type": "stream",
     "text": [
      "['and' 'is' 'one' 'shining' 'sun' 'sweet' 'the' 'two' 'weather']\n",
      "[[0 1 0 1 1 0 1 0 0]\n",
      " [0 1 0 0 0 1 1 0 1]\n",
      " [2 3 2 1 1 1 2 1 1]]\n"
     ]
    }
   ],
   "source": [
    "VEc=CountVectorizer()\n",
    "x=VEc.fit_transform(docs)\n",
    "# to see the vocabulary\n",
    "# print(vec.vocublary)\n",
    "print(VEc.get_feature_names_out())\n",
    "print(x.toarray())"
   ]
  }
 ],
 "metadata": {
  "kernelspec": {
   "display_name": "Python 3",
   "language": "python",
   "name": "python3"
  },
  "language_info": {
   "codemirror_mode": {
    "name": "ipython",
    "version": 3
   },
   "file_extension": ".py",
   "mimetype": "text/x-python",
   "name": "python",
   "nbconvert_exporter": "python",
   "pygments_lexer": "ipython3",
   "version": "3.11.9"
  }
 },
 "nbformat": 4,
 "nbformat_minor": 5
}
