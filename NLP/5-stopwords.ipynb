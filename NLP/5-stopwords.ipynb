{
 "cells": [
  {
   "cell_type": "code",
   "execution_count": 10,
   "id": "f7e9dd88",
   "metadata": {},
   "outputs": [],
   "source": [
    "# stopwords = are the common words like that a ,the, is, are, etc.\n",
    "# stopwords are remove from the text "
   ]
  },
  {
   "cell_type": "code",
   "execution_count": 11,
   "id": "f6fe9c0b",
   "metadata": {},
   "outputs": [
    {
     "name": "stderr",
     "output_type": "stream",
     "text": [
      "[nltk_data] Downloading package stopwords to\n",
      "[nltk_data]     C:\\Users\\user\\AppData\\Roaming\\nltk_data...\n",
      "[nltk_data]   Package stopwords is already up-to-date!\n"
     ]
    },
    {
     "data": {
      "text/plain": [
       "True"
      ]
     },
     "execution_count": 11,
     "metadata": {},
     "output_type": "execute_result"
    }
   ],
   "source": [
    "import nltk\n",
    "nltk.download('stopwords')\n"
   ]
  },
  {
   "cell_type": "code",
   "execution_count": 12,
   "id": "139a93a1",
   "metadata": {},
   "outputs": [],
   "source": [
    "from nltk.corpus import stopwords\n",
    "from nltk.stem import PorterStemmer"
   ]
  },
  {
   "cell_type": "code",
   "execution_count": 13,
   "id": "721b736c",
   "metadata": {},
   "outputs": [
    {
     "data": {
      "text/plain": [
       "['a',\n",
       " 'about',\n",
       " 'above',\n",
       " 'after',\n",
       " 'again',\n",
       " 'against',\n",
       " 'ain',\n",
       " 'all',\n",
       " 'am',\n",
       " 'an',\n",
       " 'and',\n",
       " 'any',\n",
       " 'are',\n",
       " 'aren',\n",
       " \"aren't\",\n",
       " 'as',\n",
       " 'at',\n",
       " 'be',\n",
       " 'because',\n",
       " 'been',\n",
       " 'before',\n",
       " 'being',\n",
       " 'below',\n",
       " 'between',\n",
       " 'both',\n",
       " 'but',\n",
       " 'by',\n",
       " 'can',\n",
       " 'couldn',\n",
       " \"couldn't\",\n",
       " 'd',\n",
       " 'did',\n",
       " 'didn',\n",
       " \"didn't\",\n",
       " 'do',\n",
       " 'does',\n",
       " 'doesn',\n",
       " \"doesn't\",\n",
       " 'doing',\n",
       " 'don',\n",
       " \"don't\",\n",
       " 'down',\n",
       " 'during',\n",
       " 'each',\n",
       " 'few',\n",
       " 'for',\n",
       " 'from',\n",
       " 'further',\n",
       " 'had',\n",
       " 'hadn',\n",
       " \"hadn't\",\n",
       " 'has',\n",
       " 'hasn',\n",
       " \"hasn't\",\n",
       " 'have',\n",
       " 'haven',\n",
       " \"haven't\",\n",
       " 'having',\n",
       " 'he',\n",
       " \"he'd\",\n",
       " \"he'll\",\n",
       " 'her',\n",
       " 'here',\n",
       " 'hers',\n",
       " 'herself',\n",
       " \"he's\",\n",
       " 'him',\n",
       " 'himself',\n",
       " 'his',\n",
       " 'how',\n",
       " 'i',\n",
       " \"i'd\",\n",
       " 'if',\n",
       " \"i'll\",\n",
       " \"i'm\",\n",
       " 'in',\n",
       " 'into',\n",
       " 'is',\n",
       " 'isn',\n",
       " \"isn't\",\n",
       " 'it',\n",
       " \"it'd\",\n",
       " \"it'll\",\n",
       " \"it's\",\n",
       " 'its',\n",
       " 'itself',\n",
       " \"i've\",\n",
       " 'just',\n",
       " 'll',\n",
       " 'm',\n",
       " 'ma',\n",
       " 'me',\n",
       " 'mightn',\n",
       " \"mightn't\",\n",
       " 'more',\n",
       " 'most',\n",
       " 'mustn',\n",
       " \"mustn't\",\n",
       " 'my',\n",
       " 'myself',\n",
       " 'needn',\n",
       " \"needn't\",\n",
       " 'no',\n",
       " 'nor',\n",
       " 'not',\n",
       " 'now',\n",
       " 'o',\n",
       " 'of',\n",
       " 'off',\n",
       " 'on',\n",
       " 'once',\n",
       " 'only',\n",
       " 'or',\n",
       " 'other',\n",
       " 'our',\n",
       " 'ours',\n",
       " 'ourselves',\n",
       " 'out',\n",
       " 'over',\n",
       " 'own',\n",
       " 're',\n",
       " 's',\n",
       " 'same',\n",
       " 'shan',\n",
       " \"shan't\",\n",
       " 'she',\n",
       " \"she'd\",\n",
       " \"she'll\",\n",
       " \"she's\",\n",
       " 'should',\n",
       " 'shouldn',\n",
       " \"shouldn't\",\n",
       " \"should've\",\n",
       " 'so',\n",
       " 'some',\n",
       " 'such',\n",
       " 't',\n",
       " 'than',\n",
       " 'that',\n",
       " \"that'll\",\n",
       " 'the',\n",
       " 'their',\n",
       " 'theirs',\n",
       " 'them',\n",
       " 'themselves',\n",
       " 'then',\n",
       " 'there',\n",
       " 'these',\n",
       " 'they',\n",
       " \"they'd\",\n",
       " \"they'll\",\n",
       " \"they're\",\n",
       " \"they've\",\n",
       " 'this',\n",
       " 'those',\n",
       " 'through',\n",
       " 'to',\n",
       " 'too',\n",
       " 'under',\n",
       " 'until',\n",
       " 'up',\n",
       " 've',\n",
       " 'very',\n",
       " 'was',\n",
       " 'wasn',\n",
       " \"wasn't\",\n",
       " 'we',\n",
       " \"we'd\",\n",
       " \"we'll\",\n",
       " \"we're\",\n",
       " 'were',\n",
       " 'weren',\n",
       " \"weren't\",\n",
       " \"we've\",\n",
       " 'what',\n",
       " 'when',\n",
       " 'where',\n",
       " 'which',\n",
       " 'while',\n",
       " 'who',\n",
       " 'whom',\n",
       " 'why',\n",
       " 'will',\n",
       " 'with',\n",
       " 'won',\n",
       " \"won't\",\n",
       " 'wouldn',\n",
       " \"wouldn't\",\n",
       " 'y',\n",
       " 'you',\n",
       " \"you'd\",\n",
       " \"you'll\",\n",
       " 'your',\n",
       " \"you're\",\n",
       " 'yours',\n",
       " 'yourself',\n",
       " 'yourselves',\n",
       " \"you've\"]"
      ]
     },
     "execution_count": 13,
     "metadata": {},
     "output_type": "execute_result"
    }
   ],
   "source": [
    "stopwords.words('english')"
   ]
  },
  {
   "cell_type": "code",
   "execution_count": 14,
   "id": "ef8b7857",
   "metadata": {},
   "outputs": [],
   "source": [
    "paragraph = \"Dr. A.P.J. Abdul Kalam, also known as the 'Missile Man of India,' was one of the most respected scientists, visionary leaders, and former Presidents of India. Born on 15th October 1931 in Rameswaram, Tamil Nadu, into a humble Muslim family, he rose from modest beginnings through hard work, determination, and a deep love for learning. A brilliant student with a special interest in mathematics and physics, he graduated in aerospace engineering and went on to join the Defence Research and Development Organisation (DRDO) and later the Indian Space Research Organisation (ISRO), where he played a key role in India’s civilian space program and military missile development. Dr. Kalam was instrumental in the development of the Agni and Prithvi missiles, earning him the nickname 'Missile Man.' His contribution to India’s 1998 Pokhran-II nuclear tests established him as a national hero. In 2002, he became the 11th President of India and was widely admired for being a 'People’s President' who stayed connected with students and the common citizen. Even after his presidency, Dr. Kalam continued to travel across India, delivering motivational speeches, writing books like 'Wings of Fire', and inspiring youth to dream big and serve the nation.\""
   ]
  },
  {
   "cell_type": "code",
   "execution_count": 15,
   "id": "5508313a",
   "metadata": {},
   "outputs": [
    {
     "data": {
      "text/plain": [
       "['Dr. A.P.J.',\n",
       " \"Abdul Kalam, also known as the 'Missile Man of India,' was one of the most respected scientists, visionary leaders, and former Presidents of India.\",\n",
       " 'Born on 15th October 1931 in Rameswaram, Tamil Nadu, into a humble Muslim family, he rose from modest beginnings through hard work, determination, and a deep love for learning.',\n",
       " 'A brilliant student with a special interest in mathematics and physics, he graduated in aerospace engineering and went on to join the Defence Research and Development Organisation (DRDO) and later the Indian Space Research Organisation (ISRO), where he played a key role in India’s civilian space program and military missile development.',\n",
       " \"Dr. Kalam was instrumental in the development of the Agni and Prithvi missiles, earning him the nickname 'Missile Man.'\",\n",
       " 'His contribution to India’s 1998 Pokhran-II nuclear tests established him as a national hero.',\n",
       " \"In 2002, he became the 11th President of India and was widely admired for being a 'People’s President' who stayed connected with students and the common citizen.\",\n",
       " \"Even after his presidency, Dr. Kalam continued to travel across India, delivering motivational speeches, writing books like 'Wings of Fire', and inspiring youth to dream big and serve the nation.\"]"
      ]
     },
     "execution_count": 15,
     "metadata": {},
     "output_type": "execute_result"
    }
   ],
   "source": [
    "from nltk.tokenize import sent_tokenize\n",
    "sent=sent_tokenize(paragraph)\n",
    "sent"
   ]
  },
  {
   "cell_type": "code",
   "execution_count": 16,
   "id": "22215c5a",
   "metadata": {},
   "outputs": [
    {
     "name": "stdout",
     "output_type": "stream",
     "text": [
      "['d r .   a . p . j .', \"a b u l   k l ,   l   k n w n     h e   ' m l e   m n   f   i n , '   w   n e   f   h e     r e p e c e   c e n ,   v n r   l e e r ,   n   f r e r   p r e e n   f   i n .\", 'b r n   n   1 5 h   o c b e r   1 9 3 1   n   r e w r ,   t l   n u ,   n     h u b l e   m u l   f l ,   h e   r e   f r   e   b e g n n n g   h r u g h   h r   w r k ,   e e r n n ,   n     e e p   l v e   f r   l e r n n g .', 'a   b r l l n   u e n   w h     p e c l   n e r e   n   h e c   n   p h c ,   h e   g r u e   n   e r p c e   e n g n e e r n g   n   w e n   n     j n   h e   d e f e n c e   r e e r c h   n   d e v e l p e n   o r g n n   ( d r d o )   n   l e r   h e   i n n   s p c e   r e e r c h   o r g n n   ( i s r o ) ,   w h e r e   h e   p l e     k e   r l e   n   i n ’   c v l n   p c e   p r g r   n   l r   l e   e v e l p e n .', \"d r .   k l   w   n r u e n l   n   h e   e v e l p e n   f   h e   a g n   n   p r h v   l e ,   e r n n g   h   h e   n c k n e   ' m l e   m n . '\", 'h   c n r b u n     i n ’   1 9 9 8   p k h r n - i i   n u c l e r   e   e b l h e   h       n n l   h e r .', \"i n   2 0 0 2 ,   h e   b e c e   h e   1 1 h   p r e e n   f   i n   n   w   w e l   r e   f r   b e n g     ' p e p l e ’   p r e e n '   w h   e   c n n e c e   w h   u e n   n   h e   c n   c z e n .\", \"e v e n   f e r   h   p r e e n c ,   d r .   k l   c n n u e     r v e l   c r   i n ,   e l v e r n g   v n l   p e e c h e ,   w r n g   b k   l k e   ' w n g   f   f r e ' ,   n   n p r n g   u h     r e   b g   n   e r v e   h e   n n .\"]\n"
     ]
    }
   ],
   "source": [
    "from nltk.stem import WordNetLemmatizer,PorterStemmer\n",
    "stemmer=PorterStemmer()\n",
    "wordnet_lemmatizer=WordNetLemmatizer()  \n",
    "for i in range (len(sent)):\n",
    "    word=wordnet_lemmatizer.lemmatize(sent[i])\n",
    "    words=[stemmer.stem(word) for word in word if word not in set(stopwords.words('english'))]\n",
    "    sent[i]= ' '.join(words)\n",
    "print(sent)"
   ]
  }
 ],
 "metadata": {
  "kernelspec": {
   "display_name": "Python 3",
   "language": "python",
   "name": "python3"
  },
  "language_info": {
   "codemirror_mode": {
    "name": "ipython",
    "version": 3
   },
   "file_extension": ".py",
   "mimetype": "text/x-python",
   "name": "python",
   "nbconvert_exporter": "python",
   "pygments_lexer": "ipython3",
   "version": "3.11.9"
  }
 },
 "nbformat": 4,
 "nbformat_minor": 5
}
