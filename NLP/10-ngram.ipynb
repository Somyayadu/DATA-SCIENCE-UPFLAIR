{
 "cells": [
  {
   "cell_type": "code",
   "execution_count": 1,
   "id": "4cff0b91",
   "metadata": {},
   "outputs": [],
   "source": [
    "from sklearn.feature_extraction.text import CountVectorizer"
   ]
  },
  {
   "cell_type": "code",
   "execution_count": 3,
   "id": "180d78b1",
   "metadata": {},
   "outputs": [
    {
     "name": "stdout",
     "output_type": "stream",
     "text": [
      "[[1 1 1 1 1 1 1 1 1 1 1 1]]\n",
      "{'this': 9, 'movie': 4, 'is': 1, 'not': 7, 'good': 0, 'this movie': 10, 'movie is': 5, 'is not': 2, 'not good': 8, 'this movie is': 11, 'movie is not': 6, 'is not good': 3}\n",
      "['good' 'is' 'is not' 'is not good' 'movie' 'movie is' 'movie is not'\n",
      " 'not' 'not good' 'this' 'this movie' 'this movie is']\n"
     ]
    }
   ],
   "source": [
    "text = [\"this movie is not good\"]\n",
    "\n",
    "cv = CountVectorizer(ngram_range=(1, 3))\n",
    "print(cv.fit_transform(text).toarray())\n",
    "print(cv.vocabulary_)\n",
    "print(cv.get_feature_names_out())"
   ]
  },
  {
   "cell_type": "code",
   "execution_count": null,
   "id": "4371d0dc",
   "metadata": {},
   "outputs": [],
   "source": []
  }
 ],
 "metadata": {
  "kernelspec": {
   "display_name": "Python 3",
   "language": "python",
   "name": "python3"
  },
  "language_info": {
   "codemirror_mode": {
    "name": "ipython",
    "version": 3
   },
   "file_extension": ".py",
   "mimetype": "text/x-python",
   "name": "python",
   "nbconvert_exporter": "python",
   "pygments_lexer": "ipython3",
   "version": "3.11.9"
  }
 },
 "nbformat": 4,
 "nbformat_minor": 5
}
