{
 "cells": [
  {
   "cell_type": "code",
   "execution_count": 4,
   "id": "0fa24024",
   "metadata": {},
   "outputs": [
    {
     "name": "stdout",
     "output_type": "stream",
     "text": [
      "list index out of range\n",
      "finally block\n"
     ]
    }
   ],
   "source": [
    "try:\n",
    "    my_list =[1,2,3]\n",
    "    print (my_list[5])\n",
    "except Exception as e:\n",
    "    print(e)\n",
    "else:\n",
    "    print(\"else block\")\n",
    "finally:\n",
    "    print(\"finally block\")"
   ]
  },
  {
   "cell_type": "code",
   "execution_count": 3,
   "id": "1695a5c6",
   "metadata": {},
   "outputs": [
    {
     "name": "stdout",
     "output_type": "stream",
     "text": [
      "division by zero\n",
      "finally block\n"
     ]
    }
   ],
   "source": [
    "try:\n",
    "    print(10/0)\n",
    "except Exception as e:\n",
    "    print(e)\n",
    "else:\n",
    "    print(\"else block\")\n",
    "finally:\n",
    "    print(\"finally block\")"
   ]
  },
  {
   "cell_type": "code",
   "execution_count": 1,
   "id": "efaff4a0",
   "metadata": {},
   "outputs": [
    {
     "name": "stdout",
     "output_type": "stream",
     "text": [
      "zero division error\n",
      "finally block\n"
     ]
    }
   ],
   "source": [
    "# zerodivision error \n",
    "try:\n",
    "    print(10/0)\n",
    "except:\n",
    "    print(\"zero division error\")\n",
    "else:\n",
    "    print(\"else block\")\n",
    "finally:\n",
    "    print(\"finally block\")"
   ]
  },
  {
   "cell_type": "code",
   "execution_count": null,
   "id": "7bf7fd19",
   "metadata": {},
   "outputs": [],
   "source": [
    "# error handling \n",
    "# 4 types of block ---- try ,except ,else ,finally :\n",
    "# try==> try block is used to test a block of code for errors\n",
    "# except==> except block is used to handle the error\n",
    "# else==> used to define a block of code to be executed if there is no error \n",
    "# finally==> used to define a block of code to be executed \n",
    "# regardless of the result of the try and except block "
   ]
  }
 ],
 "metadata": {
  "kernelspec": {
   "display_name": "Python 3",
   "language": "python",
   "name": "python3"
  },
  "language_info": {
   "codemirror_mode": {
    "name": "ipython",
    "version": 3
   },
   "file_extension": ".py",
   "mimetype": "text/x-python",
   "name": "python",
   "nbconvert_exporter": "python",
   "pygments_lexer": "ipython3",
   "version": "3.13.1"
  }
 },
 "nbformat": 4,
 "nbformat_minor": 5
}
