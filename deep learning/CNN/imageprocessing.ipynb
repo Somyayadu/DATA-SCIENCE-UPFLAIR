{
 "cells": [
  {
   "cell_type": "code",
   "execution_count": 6,
   "id": "18bc125f",
   "metadata": {},
   "outputs": [],
   "source": [
    "import cv2\n",
    "import matplotlib.pyplot as plt "
   ]
  },
  {
   "cell_type": "code",
   "execution_count": null,
   "id": "694f589d",
   "metadata": {},
   "outputs": [],
   "source": [
    "img= cv2.imread(r\"path\")\n",
    "cv2.imshow(\"image\", img)\n",
    "cv2.waitKey(0)\n",
    "cv2.destroyAllWindows()\n",
    "cv2.imshow(img)"
   ]
  },
  {
   "cell_type": "code",
   "execution_count": null,
   "id": "a14b39fe",
   "metadata": {},
   "outputs": [],
   "source": [
    "## pillow \n",
    "from PIL import Image\n",
    "img1=Image.open(r\"path\")\n",
    "img1.show()\n",
    "print(img.shape)\n",
    "print(img1.size)\n",
    "print(img.dtype)\n"
   ]
  },
  {
   "cell_type": "code",
   "execution_count": null,
   "id": "4222c010",
   "metadata": {},
   "outputs": [],
   "source": [
    "scaled_image=cv2.resize(img, (1200, 200))\n",
    "scaled_image=cv2.resize(img,(0,0),fx=0.5,fy=0.5)\n",
    "plt.imshow(scaled_image)"
   ]
  },
  {
   "cell_type": "code",
   "execution_count": null,
   "id": "572a3745",
   "metadata": {},
   "outputs": [],
   "source": [
    "import numpy as np\n",
    "rows,col =img.shape[:2]\n",
    "tx,ty=1000, 500"
   ]
  }
 ],
 "metadata": {
  "kernelspec": {
   "display_name": "Python 3",
   "language": "python",
   "name": "python3"
  },
  "language_info": {
   "codemirror_mode": {
    "name": "ipython",
    "version": 3
   },
   "file_extension": ".py",
   "mimetype": "text/x-python",
   "name": "python",
   "nbconvert_exporter": "python",
   "pygments_lexer": "ipython3",
   "version": "3.11.9"
  }
 },
 "nbformat": 4,
 "nbformat_minor": 5
}
