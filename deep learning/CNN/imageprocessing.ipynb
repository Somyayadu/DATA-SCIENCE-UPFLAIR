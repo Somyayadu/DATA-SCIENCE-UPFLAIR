{
 "cells": [
  {
   "cell_type": "code",
   "execution_count": 6,
   "id": "18bc125f",
   "metadata": {},
   "outputs": [],
   "source": [
    "import cv2\n",
    "import matplotlib.pyplot as plt "
   ]
  },
  {
   "cell_type": "code",
   "execution_count": null,
   "id": "694f589d",
   "metadata": {},
   "outputs": [
    {
     "ename": "SyntaxError",
     "evalue": "invalid syntax. Perhaps you forgot a comma? (384250611.py, line 1)",
     "output_type": "error",
     "traceback": [
      "  \u001b[36mCell\u001b[39m\u001b[36m \u001b[39m\u001b[32mIn[5]\u001b[39m\u001b[32m, line 1\u001b[39m\n\u001b[31m    \u001b[39m\u001b[31mimg= cv2.imread(r\"\"C:\\Users\\user\\Desktop\\a30728d3610aa20c977f3fb6c8b207d7.jpg\", cv2.IMREAD_COLOR)\u001b[39m\n                    ^\n\u001b[31mSyntaxError\u001b[39m\u001b[31m:\u001b[39m invalid syntax. Perhaps you forgot a comma?\n"
     ]
    }
   ],
   "source": [
    "img= cv2.imread(r\"path\")\n",
    "cv2.imshow(\"image\", img)\n",
    "cv2.waitKey(0)\n",
    "cv2.destroyAllWindows()\n",
    "cv2.imshow(img)"
   ]
  },
  {
   "cell_type": "code",
   "execution_count": null,
   "id": "a14b39fe",
   "metadata": {},
   "outputs": [],
   "source": [
    "## pillow \n",
    "from PIL import Image\n",
    "img1=Image.open(r\"path\")\n",
    "img1.show()\n",
    "print(img.shape)\n",
    "print(img1.size)\n",
    "print(img.dtype)\n"
   ]
  },
  {
   "cell_type": "code",
   "execution_count": null,
   "id": "4222c010",
   "metadata": {},
   "outputs": [],
   "source": [
    "scaled_image=cv2.resize(img, (1200, 200))\n",
    "scaled_image=cv2.resize(img,(0,0),fx=0.5,fy=0.5)\n",
    "plt.imshow(scaled_image)"
   ]
  },
  {
   "cell_type": "code",
   "execution_count": null,
   "id": "572a3745",
   "metadata": {},
   "outputs": [],
   "source": [
    "import numpy as np\n",
    "rows,col =img.shape[:2]\n",
    "tx,ty=1000, 500"
   ]
  }
 ],
 "metadata": {
  "kernelspec": {
   "display_name": "Python 3",
   "language": "python",
   "name": "python3"
  },
  "language_info": {
   "codemirror_mode": {
    "name": "ipython",
    "version": 3
   },
   "file_extension": ".py",
   "mimetype": "text/x-python",
   "name": "python",
   "nbconvert_exporter": "python",
   "pygments_lexer": "ipython3",
   "version": "3.11.9"
  }
 },
 "nbformat": 4,
 "nbformat_minor": 5
}
