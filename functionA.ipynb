{
 "cells": [
  {
   "cell_type": "code",
   "execution_count": null,
   "id": "1ff6dbad",
   "metadata": {},
   "outputs": [],
   "source": []
  },
  {
   "cell_type": "code",
   "execution_count": null,
   "id": "6a862611",
   "metadata": {},
   "outputs": [
    {
     "name": "stdout",
     "output_type": "stream",
     "text": [
      "['mohan', 'rohan', 'sohan']\n",
      "[1, 2, 3]\n"
     ]
    }
   ],
   "source": [
    "#un zip function\n",
    "zipped=[('mohan', 1), ('rohan', 2), ('sohan', 3)]\n",
    "result,number=zip(*zipped)\n",
    "print(list(result))\n",
    "print(list(number))\n"
   ]
  },
  {
   "cell_type": "code",
   "execution_count": 15,
   "id": "66f8ee8a",
   "metadata": {},
   "outputs": [
    {
     "name": "stdout",
     "output_type": "stream",
     "text": [
      "15\n"
     ]
    }
   ],
   "source": [
    "#reduce\n",
    "from functools import reduce\n",
    "lst=[1,2,3,4,5]\n",
    "result=reduce(lambda num1,num2: num1+num2,lst)\n",
    "print(result)"
   ]
  },
  {
   "cell_type": "code",
   "execution_count": null,
   "id": "280cffa6",
   "metadata": {},
   "outputs": [
    {
     "name": "stdout",
     "output_type": "stream",
     "text": [
      "[('mohan', 1), ('rohan', 2), ('sohan', 3)]\n"
     ]
    }
   ],
   "source": [
    "#zip function\n",
    "lst1=[\"mohan\",\"rohan\",\"sohan\"]\n",
    "lst2=[1,2,3]\n",
    "result= zip(lst1,lst2)\n",
    "print(list(result))"
   ]
  },
  {
   "cell_type": "code",
   "execution_count": null,
   "id": "6699529e",
   "metadata": {},
   "outputs": [
    {
     "name": "stdout",
     "output_type": "stream",
     "text": [
      "[(0, 'mohan'), (1, 'rohan'), (2, 'sohan')]\n"
     ]
    }
   ],
   "source": [
    "#enumerate function\n",
    "lst=[\"mohan\",\"rohan\",\"sohan\"]\n",
    "result=enumerate(lst)\n",
    "print(list(result))"
   ]
  },
  {
   "cell_type": "code",
   "execution_count": null,
   "id": "16bb94a1",
   "metadata": {},
   "outputs": [
    {
     "name": "stdout",
     "output_type": "stream",
     "text": [
      "[2, 4]\n"
     ]
    }
   ],
   "source": [
    "#filter function\n",
    "lst=[1,2,3,4,5]\n",
    "result=filter(lambda x:x % 2==0 ,lst)\n",
    "print(list(result))"
   ]
  },
  {
   "cell_type": "code",
   "execution_count": 8,
   "id": "d24f28a6",
   "metadata": {},
   "outputs": [
    {
     "name": "stdout",
     "output_type": "stream",
     "text": [
      "[1, 4, 9, 16, 25]\n"
     ]
    }
   ],
   "source": [
    "#map\n",
    "def sq(num):\n",
    "    return num*num \n",
    "lst=[1,2,3,4,5]\n",
    "result= map(sq,lst)\n",
    "print(list(result))"
   ]
  },
  {
   "cell_type": "code",
   "execution_count": null,
   "id": "bbf56d1c",
   "metadata": {},
   "outputs": [
    {
     "data": {
      "text/plain": [
       "10"
      ]
     },
     "execution_count": 2,
     "metadata": {},
     "output_type": "execute_result"
    }
   ],
   "source": [
    "#lambda\n",
    "x= lambda a :a+5\n",
    "x(5)"
   ]
  },
  {
   "cell_type": "code",
   "execution_count": null,
   "id": "44a5eeae",
   "metadata": {},
   "outputs": [
    {
     "data": {
      "text/plain": [
       "5005"
      ]
     },
     "execution_count": 1,
     "metadata": {},
     "output_type": "execute_result"
    }
   ],
   "source": [
    "#lambda\n",
    "x=lambda a,b :a+b\n",
    "x(5,5000)"
   ]
  },
  {
   "cell_type": "code",
   "execution_count": null,
   "id": "a8fe9ac1",
   "metadata": {},
   "outputs": [],
   "source": [
    "#lambda funnction -- small anonymous function\n"
   ]
  }
 ],
 "metadata": {
  "kernelspec": {
   "display_name": "Python 3",
   "language": "python",
   "name": "python3"
  },
  "language_info": {
   "codemirror_mode": {
    "name": "ipython",
    "version": 3
   },
   "file_extension": ".py",
   "mimetype": "text/x-python",
   "name": "python",
   "nbconvert_exporter": "python",
   "pygments_lexer": "ipython3",
   "version": "3.13.1"
  }
 },
 "nbformat": 4,
 "nbformat_minor": 5
}
