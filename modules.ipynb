{
 "cells": [
  {
   "cell_type": "code",
   "execution_count": 1,
   "id": "17d960f4",
   "metadata": {},
   "outputs": [],
   "source": [
    "# module -- importing other python files into current file\n",
    "# module is a single python file(.py)\n",
    "\n",
    "# there are 3 types of modules\n",
    "#1. build in modules :- os , datetime , re , math \n",
    "#2. third party modules :- pandas , numpy\n",
    "#3. user define modules :-"
   ]
  },
  {
   "cell_type": "code",
   "execution_count": 2,
   "id": "2026f10d",
   "metadata": {},
   "outputs": [],
   "source": [
    "import os\n",
    "from functools import reduce\n"
   ]
  },
  {
   "cell_type": "code",
   "execution_count": 4,
   "id": "e014cba9",
   "metadata": {},
   "outputs": [
    {
     "name": "stdout",
     "output_type": "stream",
     "text": [
      "5\n"
     ]
    }
   ],
   "source": [
    "from python import addfunction \n",
    "print(addfunction(2,3))"
   ]
  },
  {
   "cell_type": "code",
   "execution_count": null,
   "id": "f53b83a8",
   "metadata": {},
   "outputs": [],
   "source": []
  }
 ],
 "metadata": {
  "kernelspec": {
   "display_name": "Python 3",
   "language": "python",
   "name": "python3"
  },
  "language_info": {
   "codemirror_mode": {
    "name": "ipython",
    "version": 3
   },
   "file_extension": ".py",
   "mimetype": "text/x-python",
   "name": "python",
   "nbconvert_exporter": "python",
   "pygments_lexer": "ipython3",
   "version": "3.13.1"
  }
 },
 "nbformat": 4,
 "nbformat_minor": 5
}
